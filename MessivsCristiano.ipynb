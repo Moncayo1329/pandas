{
  "metadata": {
    "kernelspec": {
      "name": "python",
      "display_name": "Python (Pyodide)",
      "language": "python"
    },
    "language_info": {
      "codemirror_mode": {
        "name": "python",
        "version": 3
      },
      "file_extension": ".py",
      "mimetype": "text/x-python",
      "name": "python",
      "nbconvert_exporter": "python",
      "pygments_lexer": "ipython3",
      "version": "3.8"
    }
  },
  "nbformat_minor": 4,
  "nbformat": 4,
  "cells": [
    {
      "cell_type": "code",
      "source": "import pandas as pd ",
      "metadata": {
        "trusted": true
      },
      "outputs": [],
      "execution_count": 2
    },
    {
      "cell_type": "code",
      "source": "  df = pd.read_csv('Messi vs Ronaldo Stat.csv', delimiter=';') \ndf ",
      "metadata": {
        "trusted": true
      },
      "outputs": [
        {
          "execution_count": 3,
          "output_type": "execute_result",
          "data": {
            "text/plain": "                     Factors Messi  Ronaldo\n0      All time Career Goals    803     832\n1              Goal per Game   0,79    0,72\n2                    Assists    354     236\n3                      Games   1018    1157\n4                 Hat-tricks     57      62\n5                  Penalties    108     150\n6            Free Kick Goals     62      60\n7                     Header     26     141\n8                      Shots   2891    3488\n9            Shots on Target   1370    1436\n10  Accuracy Shots on target   47,4    41,2\n11                  Dribbles   3055    1661\n12                    Passes   1358     904\n13           Chances Created    403     176\n14          Man of the Match    312     172\n15         Non-penalty Goals    695     682\n16  Goals Contribution (G+A)   1157    1068\n17      Average match Rating   8,55    7,96",
            "text/html": "<div>\n<style scoped>\n    .dataframe tbody tr th:only-of-type {\n        vertical-align: middle;\n    }\n\n    .dataframe tbody tr th {\n        vertical-align: top;\n    }\n\n    .dataframe thead th {\n        text-align: right;\n    }\n</style>\n<table border=\"1\" class=\"dataframe\">\n  <thead>\n    <tr style=\"text-align: right;\">\n      <th></th>\n      <th>Factors</th>\n      <th>Messi</th>\n      <th>Ronaldo</th>\n    </tr>\n  </thead>\n  <tbody>\n    <tr>\n      <th>0</th>\n      <td>All time Career Goals</td>\n      <td>803</td>\n      <td>832</td>\n    </tr>\n    <tr>\n      <th>1</th>\n      <td>Goal per Game</td>\n      <td>0,79</td>\n      <td>0,72</td>\n    </tr>\n    <tr>\n      <th>2</th>\n      <td>Assists</td>\n      <td>354</td>\n      <td>236</td>\n    </tr>\n    <tr>\n      <th>3</th>\n      <td>Games</td>\n      <td>1018</td>\n      <td>1157</td>\n    </tr>\n    <tr>\n      <th>4</th>\n      <td>Hat-tricks</td>\n      <td>57</td>\n      <td>62</td>\n    </tr>\n    <tr>\n      <th>5</th>\n      <td>Penalties</td>\n      <td>108</td>\n      <td>150</td>\n    </tr>\n    <tr>\n      <th>6</th>\n      <td>Free Kick Goals</td>\n      <td>62</td>\n      <td>60</td>\n    </tr>\n    <tr>\n      <th>7</th>\n      <td>Header</td>\n      <td>26</td>\n      <td>141</td>\n    </tr>\n    <tr>\n      <th>8</th>\n      <td>Shots</td>\n      <td>2891</td>\n      <td>3488</td>\n    </tr>\n    <tr>\n      <th>9</th>\n      <td>Shots on Target</td>\n      <td>1370</td>\n      <td>1436</td>\n    </tr>\n    <tr>\n      <th>10</th>\n      <td>Accuracy Shots on target</td>\n      <td>47,4</td>\n      <td>41,2</td>\n    </tr>\n    <tr>\n      <th>11</th>\n      <td>Dribbles</td>\n      <td>3055</td>\n      <td>1661</td>\n    </tr>\n    <tr>\n      <th>12</th>\n      <td>Passes</td>\n      <td>1358</td>\n      <td>904</td>\n    </tr>\n    <tr>\n      <th>13</th>\n      <td>Chances Created</td>\n      <td>403</td>\n      <td>176</td>\n    </tr>\n    <tr>\n      <th>14</th>\n      <td>Man of the Match</td>\n      <td>312</td>\n      <td>172</td>\n    </tr>\n    <tr>\n      <th>15</th>\n      <td>Non-penalty Goals</td>\n      <td>695</td>\n      <td>682</td>\n    </tr>\n    <tr>\n      <th>16</th>\n      <td>Goals Contribution (G+A)</td>\n      <td>1157</td>\n      <td>1068</td>\n    </tr>\n    <tr>\n      <th>17</th>\n      <td>Average match Rating</td>\n      <td>8,55</td>\n      <td>7,96</td>\n    </tr>\n  </tbody>\n</table>\n</div>"
          },
          "metadata": {}
        }
      ],
      "execution_count": 3
    },
    {
      "cell_type": "code",
      "source": "",
      "metadata": {
        "trusted": true
      },
      "outputs": [],
      "execution_count": 3
    }
  ]
}