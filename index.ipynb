{
  "metadata": {
    "kernelspec": {
      "name": "python",
      "display_name": "Python (Pyodide)",
      "language": "python"
    },
    "language_info": {
      "codemirror_mode": {
        "name": "python",
        "version": 3
      },
      "file_extension": ".py",
      "mimetype": "text/x-python",
      "name": "python",
      "nbconvert_exporter": "python",
      "pygments_lexer": "ipython3",
      "version": "3.8"
    }
  },
  "nbformat_minor": 4,
  "nbformat": 4,
  "cells": [
    {
      "cell_type": "code",
      "source": "import pandas as pd ",
      "metadata": {
        "trusted": true
      },
      "outputs": [],
      "execution_count": 13
    },
    {
      "cell_type": "code",
      "source": "pd.read_csv('countries of the world.csv' ,  header = None )",
      "metadata": {
        "trusted": true
      },
      "outputs": [
        {
          "execution_count": 17,
          "output_type": "execute_result",
          "data": {
            "text/plain": "                   0                                    1\n0            Country                               Region\n1       Afghanistan         ASIA (EX. NEAR EAST)         \n2           Albania   EASTERN EUROPE                     \n3           Algeria   NORTHERN AFRICA                    \n4    American Samoa   OCEANIA                            \n..               ...                                  ...\n223       West Bank   NEAR EAST                          \n224  Western Sahara   NORTHERN AFRICA                    \n225           Yemen   NEAR EAST                          \n226          Zambia   SUB-SAHARAN AFRICA                 \n227        Zimbabwe   SUB-SAHARAN AFRICA                 \n\n[228 rows x 2 columns]",
            "text/html": "<div>\n<style scoped>\n    .dataframe tbody tr th:only-of-type {\n        vertical-align: middle;\n    }\n\n    .dataframe tbody tr th {\n        vertical-align: top;\n    }\n\n    .dataframe thead th {\n        text-align: right;\n    }\n</style>\n<table border=\"1\" class=\"dataframe\">\n  <thead>\n    <tr style=\"text-align: right;\">\n      <th></th>\n      <th>0</th>\n      <th>1</th>\n    </tr>\n  </thead>\n  <tbody>\n    <tr>\n      <th>0</th>\n      <td>Country</td>\n      <td>Region</td>\n    </tr>\n    <tr>\n      <th>1</th>\n      <td>Afghanistan</td>\n      <td>ASIA (EX. NEAR EAST)</td>\n    </tr>\n    <tr>\n      <th>2</th>\n      <td>Albania</td>\n      <td>EASTERN EUROPE</td>\n    </tr>\n    <tr>\n      <th>3</th>\n      <td>Algeria</td>\n      <td>NORTHERN AFRICA</td>\n    </tr>\n    <tr>\n      <th>4</th>\n      <td>American Samoa</td>\n      <td>OCEANIA</td>\n    </tr>\n    <tr>\n      <th>...</th>\n      <td>...</td>\n      <td>...</td>\n    </tr>\n    <tr>\n      <th>223</th>\n      <td>West Bank</td>\n      <td>NEAR EAST</td>\n    </tr>\n    <tr>\n      <th>224</th>\n      <td>Western Sahara</td>\n      <td>NORTHERN AFRICA</td>\n    </tr>\n    <tr>\n      <th>225</th>\n      <td>Yemen</td>\n      <td>NEAR EAST</td>\n    </tr>\n    <tr>\n      <th>226</th>\n      <td>Zambia</td>\n      <td>SUB-SAHARAN AFRICA</td>\n    </tr>\n    <tr>\n      <th>227</th>\n      <td>Zimbabwe</td>\n      <td>SUB-SAHARAN AFRICA</td>\n    </tr>\n  </tbody>\n</table>\n<p>228 rows × 2 columns</p>\n</div>"
          },
          "metadata": {}
        }
      ],
      "execution_count": 17
    }
  ]
}